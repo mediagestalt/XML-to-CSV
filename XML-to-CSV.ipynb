{
 "cells": [
  {
   "cell_type": "markdown",
   "metadata": {},
   "source": [
    "# XML > JSON > CSV conversion"
   ]
  },
  {
   "cell_type": "markdown",
   "metadata": {},
   "source": [
    "The following code will convert your XML file to csv. First things first, make sure your XML is well formed. You can check it in a [code validator](https://www.w3schools.com/xml/xml_validator.asp). This will prevent any unecessary 'breaking' of the code. Also, make sure you work with copies of the file, and not the original file itself. \n",
    "\n",
    "While these code snippets are executed in this Jupyter notebook, you can easily copy and paste them into your python editor or command line of choice. \n",
    "\n",
    "This code also relies on the following python modules: [json](https://docs.python.org/3/library/json.html), [sys](https://docs.python.org/3/library/sys.html), [xml](https://docs.python.org/3/library/xml.html), [xmltodict](https://pypi.org/project/xmltodict/). The only module that will need to be installed (i.e. not preinstalled in python) is `xmltodict`.\n"
   ]
  },
  {
   "cell_type": "code",
   "execution_count": null,
   "metadata": {},
   "outputs": [],
   "source": [
    "# this shows the version of python\n",
    "\n",
    "import sys\n",
    "sys.executable"
   ]
  },
  {
   "cell_type": "markdown",
   "metadata": {},
   "source": [
    "### Step 1: Converting the xml to json"
   ]
  },
  {
   "cell_type": "code",
   "execution_count": null,
   "metadata": {},
   "outputs": [],
   "source": [
    "import json, xmltodict, xml"
   ]
  },
  {
   "cell_type": "code",
   "execution_count": null,
   "metadata": {},
   "outputs": [],
   "source": [
    "# sets the path to file as the variable 'XML'\n",
    "\n",
    "XML = 'xml-file.xml'"
   ]
  },
  {
   "cell_type": "code",
   "execution_count": null,
   "metadata": {},
   "outputs": [],
   "source": [
    "# opens and reads the file, converting it to json\n",
    "\n",
    "with open(XML) as fd:\n",
    "    doc = xmltodict.parse(fd.read())\n",
    "    \n",
    "j = json.dumps(doc)"
   ]
  },
  {
   "cell_type": "code",
   "execution_count": null,
   "metadata": {},
   "outputs": [],
   "source": [
    "# prints the data to a json file\n",
    "\n",
    "output_file = open('test' + '.json', 'w')\n",
    "output_file.write(j)"
   ]
  },
  {
   "cell_type": "markdown",
   "metadata": {},
   "source": [
    "We could print the file here, but Jupyter doesn't natively format json, so it'll just look like a big jumble. It's a better idea to open the json file in your text editor of choice. I use Text Wrangler with a json text filter that I found [here](https://steveswinsburg.wordpress.com/2014/09/26/textwrangler-filters-to-tidy-xml-and-tidy-json/).\n",
    "\n",
    "Here's a sample of the converted file: "
   ]
  },
  {
   "cell_type": "code",
   "execution_count": null,
   "metadata": {},
   "outputs": [],
   "source": [
    "{\n",
    "  \"Recordset\": {\n",
    "    \"@setCount\": \"3209\", \n",
    "    \"Record\": [\n",
    "      {\n",
    "        \"@setEntry\": \"0\", \n",
    "        \"Access-Restrictions\": null, \n",
    "        \"AccessionNumber\": \"2002-01\", \n",
    "        \"Archives-Location\": \"JB-13\", \n",
    "        \"Date-Received\": \"29 May 2002\", \n",
    "        \"Description\": \"Co-Op News Bulletins\", \n",
    "        \"Donor-Office\": \"Co-Coordinator Shani Pearson Seton Annex 3A\", \n",
    "        \"Extent\": null, \n",
    "        \"Inclusive-Date\": \"Summer 1999 to Winter 2000\", \n",
    "        \"Notes\": null, \n",
    "        \"Title\": \"Co-operative Education\"\n",
    "      } \n",
    "        \n",
    "    ]\n",
    "  }\n",
    "}\n",
    "      "
   ]
  },
  {
   "cell_type": "markdown",
   "metadata": {},
   "source": [
    "For the csv conversion script to work, I had to remove the following:\n",
    "\n",
    "`\"Recordset\": {\n",
    "    \"@setCount\": \"3209\",`\n",
    "    \n",
    "Don't forget to remove the closing `}` at the bottom of the file."
   ]
  },
  {
   "cell_type": "markdown",
   "metadata": {},
   "source": [
    "### Step 2: Converting the json to csv"
   ]
  },
  {
   "cell_type": "markdown",
   "metadata": {},
   "source": [
    "In a text editor, paste the following script [from GitHub user Vinay](https://github.com/vinay20045/json-to-csv)"
   ]
  },
  {
   "cell_type": "code",
   "execution_count": null,
   "metadata": {},
   "outputs": [],
   "source": [
    "import sys\n",
    "import json\n",
    "import csv\n",
    "\n",
    "##\n",
    "# Convert to string keeping encoding in mind...\n",
    "##\n",
    "def to_string(s):\n",
    "    try:\n",
    "        return str(s)\n",
    "    except:\n",
    "        #Change the encoding type if needed\n",
    "        return s.encode('utf-8')\n",
    "\n",
    "\n",
    "##\n",
    "# This function converts an item like \n",
    "# {\n",
    "#   \"item_1\":\"value_11\",\n",
    "#   \"item_2\":\"value_12\",\n",
    "#   \"item_3\":\"value_13\",\n",
    "#   \"item_4\":[\"sub_value_14\", \"sub_value_15\"],\n",
    "#   \"item_5\":{\n",
    "#       \"sub_item_1\":\"sub_item_value_11\",\n",
    "#       \"sub_item_2\":[\"sub_item_value_12\", \"sub_item_value_13\"]\n",
    "#   }\n",
    "# }\n",
    "# To\n",
    "# {\n",
    "#   \"node_item_1\":\"value_11\",\n",
    "#   \"node_item_2\":\"value_12\",\n",
    "#   \"node_item_3\":\"value_13\",\n",
    "#   \"node_item_4_0\":\"sub_value_14\", \n",
    "#   \"node_item_4_1\":\"sub_value_15\",\n",
    "#   \"node_item_5_sub_item_1\":\"sub_item_value_11\",\n",
    "#   \"node_item_5_sub_item_2_0\":\"sub_item_value_12\",\n",
    "#   \"node_item_5_sub_item_2_0\":\"sub_item_value_13\"\n",
    "# }\n",
    "##\n",
    "def reduce_item(key, value):\n",
    "    global reduced_item\n",
    "    \n",
    "    #Reduction Condition 1\n",
    "    if type(value) is list:\n",
    "        i=0\n",
    "        for sub_item in value:\n",
    "            reduce_item(key+'_'+to_string(i), sub_item)\n",
    "            i=i+1\n",
    "\n",
    "    #Reduction Condition 2\n",
    "    elif type(value) is dict:\n",
    "        sub_keys = value.keys()\n",
    "        for sub_key in sub_keys:\n",
    "            reduce_item(key+'_'+to_string(sub_key), value[sub_key])\n",
    "    \n",
    "    #Base Condition\n",
    "    else:\n",
    "        reduced_item[to_string(key)] = to_string(value)\n",
    "\n",
    "\n",
    "if __name__ == \"__main__\":\n",
    "    if len(sys.argv) != 4:\n",
    "        print (\"\\nUsage: python json_to_csv.py <node> <json_in_file_path> <csv_out_file_path>\\n\")\n",
    "    else:\n",
    "        #Reading arguments\n",
    "        node = sys.argv[1]\n",
    "        json_file_path = sys.argv[2]\n",
    "        csv_file_path = sys.argv[3]\n",
    "\n",
    "        fp = open(json_file_path, 'r')\n",
    "        json_value = fp.read()\n",
    "        raw_data = json.loads(json_value)\n",
    "        fp.close()\n",
    "        \n",
    "        try:\n",
    "            data_to_be_processed = raw_data[node]\n",
    "        except:\n",
    "            data_to_be_processed = raw_data\n",
    "\n",
    "        processed_data = []\n",
    "        header = []\n",
    "        for item in data_to_be_processed:\n",
    "            reduced_item = {}\n",
    "            reduce_item(node, item)\n",
    "\n",
    "            header += reduced_item.keys()\n",
    "\n",
    "            processed_data.append(reduced_item)\n",
    "\n",
    "        header = list(set(header))\n",
    "        header.sort()\n",
    "\n",
    "        with open(csv_file_path, 'w+') as f:\n",
    "            writer = csv.DictWriter(f, header, quoting=csv.QUOTE_ALL)\n",
    "            writer.writeheader()\n",
    "            for row in processed_data:\n",
    "                writer.writerow(row)\n",
    "\n",
    "        print (\"Just completed writing csv file with %d columns\" % len(header))\n",
    "        "
   ]
  },
  {
   "cell_type": "markdown",
   "metadata": {},
   "source": [
    "Save this file as `json_to_csv.py`, making sure it's in the same folder as the json file you want to convert.\n",
    "Navigate to the folder in a terminal window, and then type the following command:\n",
    "\n",
    "`json_to_csv.py <node> <json_in_file_path> <csv_out_file_path>`\n",
    "\n",
    "For this file, the `<node>` is `Record`; the `<json_in_file_path>` is `test.json`; and the `<csv_out_file_path>` is `output.csv`."
   ]
  }
 ],
 "metadata": {
  "kernelspec": {
   "display_name": "Python 3",
   "language": "python",
   "name": "python3"
  },
  "language_info": {
   "codemirror_mode": {
    "name": "ipython",
    "version": 3
   },
   "file_extension": ".py",
   "mimetype": "text/x-python",
   "name": "python",
   "nbconvert_exporter": "python",
   "pygments_lexer": "ipython3",
   "version": "3.7.4"
  }
 },
 "nbformat": 4,
 "nbformat_minor": 2
}
